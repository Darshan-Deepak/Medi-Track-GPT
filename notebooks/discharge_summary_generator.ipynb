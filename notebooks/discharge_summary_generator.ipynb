{
  "cells": [
    {
      "cell_type": "markdown",
      "id": "6f806bbf",
      "metadata": {
        "id": "6f806bbf"
      },
      "source": [
        "## MEDI-TRACK-GPT"
      ]
    },
    {
      "cell_type": "code",
      "execution_count": null,
      "id": "d7d4cc52",
      "metadata": {
        "id": "d7d4cc52"
      },
      "outputs": [],
      "source": [
        "import pandas as pd\n",
        "from pathlib import Path"
      ]
    },
    {
      "cell_type": "code",
      "execution_count": null,
      "id": "2908c2ab",
      "metadata": {
        "id": "2908c2ab",
        "outputId": "db8a3967-0955-472b-9f51-e40e1c8a6c38"
      },
      "outputs": [
        {
          "name": "stdout",
          "output_type": "stream",
          "text": [
            "Loaded: 116 patients\n",
            "Loaded: 7366 encounters\n"
          ]
        }
      ],
      "source": [
        "# Set the data path\n",
        "data_dir = Path(\"../data/ehr\")\n",
        "\n",
        "\n",
        "# Load the Synthea CSV files\n",
        "patients = pd.read_csv(data_dir / \"patients.csv\")\n",
        "encounters = pd.read_csv(data_dir / \"encounters.csv\")\n",
        "conditions = pd.read_csv(data_dir / \"conditions.csv\")\n",
        "observations = pd.read_csv(data_dir / \"observations.csv\")\n",
        "\n",
        "print(\"Loaded:\", len(patients), \"patients\")\n",
        "print(\"Loaded:\", len(encounters), \"encounters\")"
      ]
    },
    {
      "cell_type": "code",
      "execution_count": null,
      "id": "0cce0dd4",
      "metadata": {
        "id": "0cce0dd4"
      },
      "outputs": [],
      "source": [
        "# Reuse this function to simulate a doctor's discharge summary\n",
        "def generate_discharge_note(encounter_row):\n",
        "    encounter_id = encounter_row['Id']\n",
        "    patient_id = encounter_row['PATIENT']\n",
        "    reason = encounter_row['DESCRIPTION']\n",
        "\n",
        "    # Get diagnoses\n",
        "    diag_rows = conditions[conditions['ENCOUNTER'] == encounter_id]\n",
        "    diagnoses = \", \".join(diag_rows['DESCRIPTION'].tolist()) or \"No diagnosis available\"\n",
        "\n",
        "    # Get vitals\n",
        "    vitals_rows = observations[observations['ENCOUNTER'] == encounter_id]\n",
        "    vitals_text = \"\"\n",
        "    for _, row in vitals_rows.iterrows():\n",
        "        unit = row['UNIT'] if 'UNIT' in row else ''\n",
        "        vitals_text += f\"- {row['DESCRIPTION']}: {row['VALUE']} {unit}\\n\"\n",
        "\n",
        "\n",
        "    note = f\"\"\"\n",
        "    Discharge Summary\n",
        "    ------------------\n",
        "    Encounter ID: {encounter_id}\n",
        "    Patient ID: {patient_id}\n",
        "    Reason for Visit: {reason}\n",
        "    Diagnoses: {diagnoses}\n",
        "\n",
        "    Key Vitals:\n",
        "    {vitals_text if vitals_text else 'No vitals recorded'}\n",
        "\n",
        "    Plan:\n",
        "    - Discharge with medications as prescribed.\n",
        "    - Follow-up in 2 weeks.\n",
        "    - If symptoms worsen, return to hospital immediately.\n",
        "    \"\"\".strip()\n",
        "\n",
        "    return note\n"
      ]
    },
    {
      "cell_type": "code",
      "execution_count": null,
      "id": "1e91d2a9",
      "metadata": {
        "id": "1e91d2a9"
      },
      "outputs": [],
      "source": [
        "Path(\"data/ehr\").mkdir(parents=True, exist_ok=True)"
      ]
    },
    {
      "cell_type": "code",
      "execution_count": null,
      "id": "72ca9b51",
      "metadata": {
        "id": "72ca9b51",
        "outputId": "0ea108c8-dd17-4043-e2b3-2aae89eda8d9"
      },
      "outputs": [
        {
          "data": {
            "text/html": [
              "<div>\n",
              "<style scoped>\n",
              "    .dataframe tbody tr th:only-of-type {\n",
              "        vertical-align: middle;\n",
              "    }\n",
              "\n",
              "    .dataframe tbody tr th {\n",
              "        vertical-align: top;\n",
              "    }\n",
              "\n",
              "    .dataframe thead th {\n",
              "        text-align: right;\n",
              "    }\n",
              "</style>\n",
              "<table border=\"1\" class=\"dataframe\">\n",
              "  <thead>\n",
              "    <tr style=\"text-align: right;\">\n",
              "      <th></th>\n",
              "      <th>encounter_id</th>\n",
              "      <th>summary</th>\n",
              "    </tr>\n",
              "  </thead>\n",
              "  <tbody>\n",
              "    <tr>\n",
              "      <th>0</th>\n",
              "      <td>40f237cc-477c-6442-3e33-7e872da13ba7</td>\n",
              "      <td>Discharge Summary\\n    ------------------\\n   ...</td>\n",
              "    </tr>\n",
              "    <tr>\n",
              "      <th>1</th>\n",
              "      <td>f21d1bba-2a97-4b5d-6063-06dc8d8c610e</td>\n",
              "      <td>Discharge Summary\\n    ------------------\\n   ...</td>\n",
              "    </tr>\n",
              "    <tr>\n",
              "      <th>2</th>\n",
              "      <td>7b2e8293-5681-eea9-5e10-81b11b5d86cc</td>\n",
              "      <td>Discharge Summary\\n    ------------------\\n   ...</td>\n",
              "    </tr>\n",
              "  </tbody>\n",
              "</table>\n",
              "</div>"
            ],
            "text/plain": [
              "                           encounter_id  \\\n",
              "0  40f237cc-477c-6442-3e33-7e872da13ba7   \n",
              "1  f21d1bba-2a97-4b5d-6063-06dc8d8c610e   \n",
              "2  7b2e8293-5681-eea9-5e10-81b11b5d86cc   \n",
              "\n",
              "                                             summary  \n",
              "0  Discharge Summary\\n    ------------------\\n   ...  \n",
              "1  Discharge Summary\\n    ------------------\\n   ...  \n",
              "2  Discharge Summary\\n    ------------------\\n   ...  "
            ]
          },
          "execution_count": 26,
          "metadata": {},
          "output_type": "execute_result"
        }
      ],
      "source": [
        "# Create summaries for the first 50 encounters\n",
        "summaries = []\n",
        "for i, row in encounters.head(50).iterrows():\n",
        "    summary = generate_discharge_note(row)\n",
        "    summaries.append({'encounter_id': row['Id'], 'summary': summary})\n",
        "\n",
        "# Save to CSV for GPT input\n",
        "summary_df = pd.DataFrame(summaries)\n",
        "summary_df.to_csv(\"data/ehr/discharge_summaries.csv\", index=False)\n",
        "summary_df.head(3)\n"
      ]
    }
  ],
  "metadata": {
    "kernelspec": {
      "display_name": "Python 3",
      "language": "python",
      "name": "python3"
    },
    "language_info": {
      "codemirror_mode": {
        "name": "ipython",
        "version": 3
      },
      "file_extension": ".py",
      "mimetype": "text/x-python",
      "name": "python",
      "nbconvert_exporter": "python",
      "pygments_lexer": "ipython3",
      "version": "3.12.4"
    },
    "colab": {
      "provenance": []
    }
  },
  "nbformat": 4,
  "nbformat_minor": 5
}